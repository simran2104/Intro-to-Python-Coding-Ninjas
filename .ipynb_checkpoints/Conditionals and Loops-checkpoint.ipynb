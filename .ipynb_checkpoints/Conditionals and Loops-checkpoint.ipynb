{
 "cells": [
  {
   "cell_type": "markdown",
   "metadata": {},
   "source": [
    "## Check number"
   ]
  },
  {
   "cell_type": "code",
   "execution_count": null,
   "metadata": {},
   "outputs": [],
   "source": [
    "n=int(input())\n",
    "if n==0:\n",
    "    print(\"Zero\")\n",
    "elif n>0:\n",
    "    print(\"Positive\")\n",
    "else:\n",
    "    print(\"Negative\")"
   ]
  },
  {
   "cell_type": "markdown",
   "metadata": {},
   "source": [
    "## Sum of n numbers"
   ]
  },
  {
   "cell_type": "code",
   "execution_count": null,
   "metadata": {},
   "outputs": [],
   "source": [
    "n=int(input())\n",
    "i=1\n",
    "sum=0\n",
    "while i<=n:\n",
    "    sum=sum+i\n",
    "    i=i+1\n",
    "print(sum)"
   ]
  },
  {
   "cell_type": "markdown",
   "metadata": {},
   "source": [
    "## Sum of Even Numbers"
   ]
  },
  {
   "cell_type": "code",
   "execution_count": null,
   "metadata": {},
   "outputs": [],
   "source": [
    "n=int(input())\n",
    "i=2\n",
    "sum=0\n",
    "while i<=n:\n",
    "    if i%2==0:\n",
    "        sum=sum+i\n",
    "    i=i+1\n",
    "print(sum)"
   ]
  },
  {
   "cell_type": "markdown",
   "metadata": {},
   "source": [
    "## Fahrenheit to Celsius"
   ]
  },
  {
   "cell_type": "code",
   "execution_count": null,
   "metadata": {},
   "outputs": [],
   "source": [
    "a=int(input())\n",
    "b=int(input())\n",
    "w=int(input())\n",
    "\n",
    "while a<=b:\n",
    "    c=int((a-32)*5/9)\n",
    "    print(a,\"\",c)\n",
    "    a=a+w"
   ]
  },
  {
   "cell_type": "markdown",
   "metadata": {},
   "source": [
    "## Calculator"
   ]
  },
  {
   "cell_type": "code",
   "execution_count": null,
   "metadata": {},
   "outputs": [],
   "source": [
    "flag=True\n",
    "add=False\n",
    "sub=False\n",
    "div=False\n",
    "mul=False\n",
    "mod=False\n",
    "rr=[]\n",
    "while flag:\n",
    "    n=int(input())\n",
    "    if n==1:\n",
    "        a=int(input())\n",
    "        b=int(input())\n",
    "        add=a+b\n",
    "        rr.append(add)\n",
    "        \n",
    "    elif n==2:\n",
    "        a=int(input())\n",
    "        b=int(input())\n",
    "        sub=a-b\n",
    "        rr.append(sub)\n",
    "    elif n==3:\n",
    "        a=int(input())\n",
    "        b=int(input())\n",
    "        mul=a*b\n",
    "        rr.append(mul)\n",
    "    elif n==4:\n",
    "        a=int(input())\n",
    "        b=int(input())\n",
    "        div=int(a/b)\n",
    "        rr.append(div)\n",
    "    elif n==5:\n",
    "        a=int(input())\n",
    "        b=int(input())\n",
    "        mod=a%b\n",
    "        rr.append(mod)\n",
    "    elif n==6:\n",
    "        flag=False\n",
    "    else:\n",
    "        ok=\"Invalid Operation\"\n",
    "        rr.append(ok)\n",
    "\n",
    "for i in rr:\n",
    "    print(i)\n",
    "\n"
   ]
  },
  {
   "cell_type": "markdown",
   "metadata": {},
   "source": [
    "## Reverse of a number"
   ]
  },
  {
   "cell_type": "code",
   "execution_count": null,
   "metadata": {},
   "outputs": [],
   "source": [
    "def reverse(n):\n",
    "#Implement Your Code Here\n",
    "    rem=0;\n",
    "    rev=0;\n",
    "    while(n):\n",
    "        rem=n%10\n",
    "        rev=rem+(rev*10)\n",
    "        n=int(n/10)\n",
    "    print(rev)\n",
    "\n",
    "n=int(input())\n",
    "reverse(n)"
   ]
  },
  {
   "cell_type": "markdown",
   "metadata": {},
   "source": [
    "## Palindrome number"
   ]
  },
  {
   "cell_type": "code",
   "execution_count": null,
   "metadata": {},
   "outputs": [],
   "source": [
    "def checkPalindrome(num):\n",
    "    rem=0\n",
    "    rev=0\n",
    "    n=num\n",
    "    while(num):\n",
    "        rem=num%10\n",
    "        rev=rem+(rev*10)\n",
    "        num=int(num/10)\n",
    "    if rev==n:\n",
    "        return True\n",
    "    else:\n",
    "        return False\n",
    "\t\t\n",
    "num = int(input())\n",
    "isPalindrome = checkPalindrome(num)\n",
    "if(isPalindrome):\n",
    "\tprint('true')\n",
    "else:\n",
    "\tprint('false')"
   ]
  },
  {
   "cell_type": "markdown",
   "metadata": {},
   "source": [
    "## Sum of even & odd"
   ]
  },
  {
   "cell_type": "code",
   "execution_count": null,
   "metadata": {},
   "outputs": [],
   "source": [
    "n=int(input())\n",
    "rem=0\n",
    "sum1=0\n",
    "sum2=0\n",
    "rev=0\n",
    "while(n):\n",
    "    rem=n%10\n",
    "    rev=rem+(rev*10)\n",
    "    n=int(n/10)\n",
    "    if(rev%2==0):\n",
    "        sum1=sum1+rev\n",
    "        rev=0\n",
    "    else:\n",
    "        sum2=sum2+rev\n",
    "        rev=0\n",
    "print(sum1,\" \",sum2)"
   ]
  },
  {
   "cell_type": "markdown",
   "metadata": {},
   "source": [
    "## Nth Fibonacci number"
   ]
  },
  {
   "cell_type": "code",
   "execution_count": null,
   "metadata": {},
   "outputs": [],
   "source": [
    "def fab(n):\n",
    "    if n==1:\n",
    "        return 1\n",
    "    elif n==2:\n",
    "        return 1\n",
    "    else:\n",
    "        return (fab(n-1)+fab(n-2))\n",
    "n=int(input())\n",
    "a=fab(n)\n",
    "print(a)"
   ]
  }
 ],
 "metadata": {
  "kernelspec": {
   "display_name": "Python 3",
   "language": "python",
   "name": "python3"
  },
  "language_info": {
   "codemirror_mode": {
    "name": "ipython",
    "version": 3
   },
   "file_extension": ".py",
   "mimetype": "text/x-python",
   "name": "python",
   "nbconvert_exporter": "python",
   "pygments_lexer": "ipython3",
   "version": "3.7.4"
  }
 },
 "nbformat": 4,
 "nbformat_minor": 2
}
