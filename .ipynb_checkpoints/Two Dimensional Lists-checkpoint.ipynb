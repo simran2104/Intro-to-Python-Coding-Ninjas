{
 "cells": [
  {
   "cell_type": "markdown",
   "metadata": {},
   "source": [
    "## Row Wise Sum"
   ]
  },
  {
   "cell_type": "code",
   "execution_count": 1,
   "metadata": {},
   "outputs": [
    {
     "name": "stdout",
     "output_type": "stream",
     "text": [
      "4 2\n",
      "1 2 3 4 5 6 7 8\n",
      "3 7 11 15\n"
     ]
    }
   ],
   "source": [
    "# Given a 2D integer array of size M*N, find and print the sum of ith row elements separated by space.\n",
    "# Input Format :\n",
    "# Line 1 : Two integers M and N (separated by space) \n",
    "# Line 2 : Matrix elements of each row (separated by space)\n",
    "# Output Format :\n",
    "# Sum of every ith row elements (separated by space)\n",
    "\n",
    "\n",
    "def rowWiseSum(arr):\n",
    "    ar=[]\n",
    "    for i in arr:\n",
    "        k=0\n",
    "        for j in range(len(i)):\n",
    "            k=i[j]+k\n",
    "        ar.append(k)\n",
    "    return ar\n",
    "#Main\n",
    "m, n=(int(i) for i in input().strip().split(' '))\n",
    "l=[int(i) for i in input().strip().split(' ')]\n",
    "arr = [ [ int(l[(j*n)+i])for i in range(n)] for j in range(m)]\n",
    "l=rowWiseSum(arr)\n",
    "print(*l)"
   ]
  },
  {
   "cell_type": "markdown",
   "metadata": {},
   "source": [
    "## Largest Row or Column"
   ]
  },
  {
   "cell_type": "code",
   "execution_count": 2,
   "metadata": {},
   "outputs": [
    {
     "name": "stdout",
     "output_type": "stream",
     "text": [
      "2 2\n",
      "1 1 1 1\n",
      "row 0 2\n"
     ]
    }
   ],
   "source": [
    "# Given an NxM 2D array, you need to find out which row or column has largest sum (sum of its elements) overall amongst all \n",
    "#rows and columns.\n",
    "# Input Format :\n",
    "#  Line 1 : 2 integers N and M respectively, separated by space \n",
    "#  Line 2: Single line having N*M elements entered in row wise manner, each separated by space.\n",
    "# Output Format :\n",
    "#  If row sum is maximum then - \"row\" row_num max_sum\n",
    "#  If column sum is maximum then - \"column\" col_num max_sum\n",
    "\n",
    "\n",
    "def largestRowCol(arr):\n",
    "    ar=[]\n",
    "    max=0\n",
    "    s=0\n",
    "    ind=0\n",
    "    for i in arr:\n",
    "        k=0\n",
    "        for j in range(len(i)):\n",
    "            k=i[j]+k\n",
    "        if max<=k:\n",
    "            max=k\n",
    "            ind=arr.index(i)\n",
    "            s=k\n",
    "    maxc=0\n",
    "    sc=0\n",
    "    indc=0\n",
    "    for i in range(len(arr[0])):\n",
    "        k=0\n",
    "        for j in arr:\n",
    "            k=j[i]+k\n",
    "        if maxc<=k:\n",
    "            maxc=k\n",
    "            indc=i\n",
    "            sc=k\n",
    "    if max>=maxc:\n",
    "        print(\"row\",ind,s)\n",
    "    else:\n",
    "        print(\"column \",indc,sc)\n",
    "            \n",
    "\n",
    "#Main\n",
    "m, n=(int(i) for i in input().strip().split(' '))\n",
    "l=[int(i) for i in input().strip().split(' ')]\n",
    "arr = [ [ l[(j*n)+i] for i in range(n)] for j in range(m)]\n",
    "largestRowCol(arr)\n"
   ]
  },
  {
   "cell_type": "markdown",
   "metadata": {},
   "source": [
    "## Wave Print (error)"
   ]
  },
  {
   "cell_type": "code",
   "execution_count": null,
   "metadata": {},
   "outputs": [],
   "source": [
    "# Given a two dimensional N*M array, print the array in a sine wave order. i.e. print the first column top to bottom,\n",
    "#next column bottom to top and so on.\n",
    "# Note : Print the elements separated by space.\n",
    "# Input format :\n",
    "# N, M, array elements (separated by space)\n",
    "# Output format :\n",
    "# Elements of matrix in wave form in a single line and space separated\n",
    "\n",
    "\n",
    "def wavePrint(arr,n,m):\n",
    "    ar=[]\n",
    "    for i in range(n):\n",
    "        for j in range(m-1,-1,-1):\n",
    "            ar.append(arr[j][i])\n",
    "    print(*ar)\n",
    "\n",
    "l=[int(i) for i in input().strip().split(' ')]\n",
    "m, n=l[0], l[1]\n",
    "arr = [ [ l[(j*n)+i+2] for i in range(n)] for j in range(m)]\n",
    "wavePrint(m,n,arr)"
   ]
  },
  {
   "cell_type": "markdown",
   "metadata": {},
   "source": [
    "## Spiral Print"
   ]
  },
  {
   "cell_type": "code",
   "execution_count": 3,
   "metadata": {},
   "outputs": [
    {
     "name": "stdout",
     "output_type": "stream",
     "text": [
      "4 4 1 2 3 4 5 6 7 8 9 10 11 12 13 14 15 16\n",
      "1 2 3 4 8 12 16 15 14 13 9 5 6 7 11 10 "
     ]
    }
   ],
   "source": [
    "def spiralPrint(m, n, a) : \n",
    "\tk = 0; l = 0\n",
    "\n",
    "\twhile (k < m and l < n) : \n",
    "\t\t\n",
    "\t\t# Print the first row from \n",
    "\t\t# the remaining rows \n",
    "\t\tfor i in range(l, n) : \n",
    "\t\t\tprint(a[k][i], end = \" \") \n",
    "\t\t\t\n",
    "\t\tk += 1\n",
    "\n",
    "\t\t# Print the last column from \n",
    "\t\t# the remaining columns \n",
    "\t\tfor i in range(k, m) : \n",
    "\t\t\tprint(a[i][n - 1], end = \" \") \n",
    "\t\t\t\n",
    "\t\tn -= 1\n",
    "\n",
    "\t\t# Print the last row from \n",
    "\t\t# the remaining rows \n",
    "\t\tif ( k < m) : \n",
    "\t\t\t\n",
    "\t\t\tfor i in range(n - 1, (l - 1), -1) : \n",
    "\t\t\t\tprint(a[m - 1][i], end = \" \") \n",
    "\t\t\t\n",
    "\t\t\tm -= 1\n",
    "\t\t\n",
    "\t\t# Print the first column from \n",
    "\t\t# the remaining columns \n",
    "\t\tif (l < n) : \n",
    "\t\t\tfor i in range(m - 1, k - 1, -1) : \n",
    "\t\t\t\tprint(a[i][l], end = \" \") \n",
    "\t\t\t\n",
    "\t\t\tl += 1\n",
    "\n",
    "l=[int(i) for i in input().strip().split(' ')]\n",
    "m, n=l[0], l[1]\n",
    "arr = [ [ l[(j*n)+i+2] for i in range(n)] for j in range(m)]\n",
    "spiralPrint(m,n,arr)"
   ]
  }
 ],
 "metadata": {
  "kernelspec": {
   "display_name": "Python 3",
   "language": "python",
   "name": "python3"
  },
  "language_info": {
   "codemirror_mode": {
    "name": "ipython",
    "version": 3
   },
   "file_extension": ".py",
   "mimetype": "text/x-python",
   "name": "python",
   "nbconvert_exporter": "python",
   "pygments_lexer": "ipython3",
   "version": "3.7.4"
  }
 },
 "nbformat": 4,
 "nbformat_minor": 2
}
