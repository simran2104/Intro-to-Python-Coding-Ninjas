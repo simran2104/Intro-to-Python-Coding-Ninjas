{
 "cells": [
  {
   "cell_type": "markdown",
   "metadata": {},
   "source": [
    "## Check Palindrome"
   ]
  },
  {
   "cell_type": "code",
   "execution_count": 2,
   "metadata": {},
   "outputs": [
    {
     "name": "stdout",
     "output_type": "stream",
     "text": [
      "aaabbbaaa\n",
      "true\n"
     ]
    }
   ],
   "source": [
    "str=input()\n",
    "str1=\"\"\n",
    "for i in range(len(str)-1,-1,-1):\n",
    "    str1=str1+str[i]\n",
    "if str1==str:\n",
    "    print(\"true\")\n",
    "else:\n",
    "    print(\"false\")"
   ]
  },
  {
   "cell_type": "markdown",
   "metadata": {},
   "source": [
    "## Check Permutation"
   ]
  },
  {
   "cell_type": "code",
   "execution_count": null,
   "metadata": {},
   "outputs": [],
   "source": [
    "# Given two strings, S and T, check if they are permutations of each other. Return true or false.\n",
    "# Permutation means - length of both the strings should same and should contain same set of characters.\n",
    "# Order of characters doesn't matter.\n",
    "\n",
    "str1=input()\n",
    "str2=input()\n",
    "if len(str1)==len(str2):\n",
    "    for i in str1:\n",
    "        if (str2.find(i))!= -1:\n",
    "            continue\n",
    "        else:\n",
    "            print(\"false\")\n",
    "            break\n",
    "    else:\n",
    "        print(\"true\")\n",
    "else:\n",
    "    print(\"false\")"
   ]
  },
  {
   "cell_type": "markdown",
   "metadata": {},
   "source": [
    "## Remove Consecutive Duplicates"
   ]
  },
  {
   "cell_type": "code",
   "execution_count": 3,
   "metadata": {},
   "outputs": [
    {
     "name": "stdout",
     "output_type": "stream",
     "text": [
      "aabccbaa\n",
      "abcba\n"
     ]
    }
   ],
   "source": [
    "str=input()\n",
    "str1=\"\"\n",
    "for i in range(len(str)):\n",
    "    if i==0:\n",
    "        str1=str1+str[i]\n",
    "    elif str1[len(str1)-1]!=str[i] :\n",
    "        str1=str1+str[i]\n",
    "    else:\n",
    "        continue\n",
    "        \n",
    "print(str1)"
   ]
  },
  {
   "cell_type": "markdown",
   "metadata": {},
   "source": [
    "## Reverse Each Word"
   ]
  },
  {
   "cell_type": "code",
   "execution_count": 4,
   "metadata": {},
   "outputs": [
    {
     "name": "stdout",
     "output_type": "stream",
     "text": [
      "I am Simran\n",
      "I ma narmiS "
     ]
    }
   ],
   "source": [
    "str=input()\n",
    "str1=\"\"\n",
    "list=str.split()\n",
    "for i in range(len(list)):\n",
    "    str1=\"\"\n",
    "    for j in range(len(list[i])-1,-1,-1):\n",
    "        str1=str1+list[i][j]\n",
    "    list[i]=str1\n",
    "for i in list:\n",
    "    print(i,end=\" \")"
   ]
  },
  {
   "cell_type": "markdown",
   "metadata": {},
   "source": [
    "## Remove character"
   ]
  },
  {
   "cell_type": "code",
   "execution_count": 5,
   "metadata": {},
   "outputs": [
    {
     "name": "stdout",
     "output_type": "stream",
     "text": [
      "SIMRAN\n",
      "R\n",
      "SIMAN"
     ]
    }
   ],
   "source": [
    "str=input()\n",
    "char=input()\n",
    "list=str.split(char)\n",
    "for i in list:\n",
    "    print(i,end=\"\")"
   ]
  },
  {
   "cell_type": "markdown",
   "metadata": {},
   "source": [
    "## Highest Occurring Character"
   ]
  },
  {
   "cell_type": "code",
   "execution_count": 6,
   "metadata": {},
   "outputs": [
    {
     "name": "stdout",
     "output_type": "stream",
     "text": [
      "sssssimran\n",
      "s\n"
     ]
    }
   ],
   "source": [
    "str=input()\n",
    "max=0\n",
    "c=\"\"\n",
    "for i in str:\n",
    "    list=str.split(i)\n",
    "    if len(list)>=max:\n",
    "        max=len(list)\n",
    "        c=i\n",
    "print(c)"
   ]
  },
  {
   "cell_type": "markdown",
   "metadata": {},
   "source": [
    "## Compress the String"
   ]
  },
  {
   "cell_type": "code",
   "execution_count": null,
   "metadata": {},
   "outputs": [],
   "source": [
    "str2=input()\n",
    "str1=\"\"\n",
    "def compress(string):\n",
    "\n",
    "    res = \"\"\n",
    "\n",
    "    count = 1\n",
    "\n",
    "    #Add in first character\n",
    "    res += string[0]\n",
    "\n",
    "    #Iterate through loop, skipping last one\n",
    "    for i in range(len(string)-1):\n",
    "        if(string[i] == string[i+1]):\n",
    "            count+=1\n",
    "        else:\n",
    "            if(count > 1):\n",
    "                #Ignore if no repeats\n",
    "                res += str(count)\n",
    "            res += string[i+1]\n",
    "            count = 1\n",
    "    #print last one\n",
    "    if(count > 1):\n",
    "        res += str(count)\n",
    "    return res\n",
    "str1=compress(str2)\n",
    "print(str1)"
   ]
  }
 ],
 "metadata": {
  "kernelspec": {
   "display_name": "Python 3",
   "language": "python",
   "name": "python3"
  },
  "language_info": {
   "codemirror_mode": {
    "name": "ipython",
    "version": 3
   },
   "file_extension": ".py",
   "mimetype": "text/x-python",
   "name": "python",
   "nbconvert_exporter": "python",
   "pygments_lexer": "ipython3",
   "version": "3.7.4"
  }
 },
 "nbformat": 4,
 "nbformat_minor": 2
}
