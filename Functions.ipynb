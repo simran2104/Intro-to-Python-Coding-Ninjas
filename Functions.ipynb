{
 "cells": [
  {
   "cell_type": "markdown",
   "metadata": {},
   "source": [
    "## Fahrenheit to Celsius Function"
   ]
  },
  {
   "cell_type": "code",
   "execution_count": 2,
   "metadata": {},
   "outputs": [
    {
     "name": "stdout",
     "output_type": "stream",
     "text": [
      "0\n",
      "100\n",
      "20\n",
      "0\t-17\n",
      "20\t-6\n",
      "40\t4\n",
      "60\t15\n",
      "80\t26\n",
      "100\t37\n"
     ]
    }
   ],
   "source": [
    "def printTable(start,end,step):\n",
    "    for i in range(start,end+1,step):\n",
    "        s=(i-32)*5//9\n",
    "        print(i,end=\"\\t\")\n",
    "        if s<0:\n",
    "            s=s+1\n",
    "        print(s) \n",
    "\n",
    "\t   \n",
    "s = int(input())\n",
    "e = int(input())\n",
    "step = int(input())\n",
    "printTable(s,e,step)"
   ]
  },
  {
   "cell_type": "markdown",
   "metadata": {},
   "source": [
    "## Fibonacci Member"
   ]
  },
  {
   "cell_type": "code",
   "execution_count": 3,
   "metadata": {},
   "outputs": [
    {
     "name": "stdout",
     "output_type": "stream",
     "text": [
      "45\n",
      "false\n"
     ]
    }
   ],
   "source": [
    "import math\n",
    "def isPerfectSquare(x): \n",
    "    s = int(math.sqrt(x)) \n",
    "    return s*s == x \n",
    "\n",
    "def checkMember(n):\n",
    "    return isPerfectSquare(5*n*n + 4) or isPerfectSquare(5*n*n - 4) \n",
    "    pass\n",
    "\n",
    "n=int(input())\n",
    "if(checkMember(n)):\n",
    "    print(\"true\")\n",
    "else:\n",
    "    print(\"false\")"
   ]
  },
  {
   "cell_type": "markdown",
   "metadata": {},
   "source": [
    "## Palindrome number"
   ]
  },
  {
   "cell_type": "code",
   "execution_count": 4,
   "metadata": {},
   "outputs": [
    {
     "name": "stdout",
     "output_type": "stream",
     "text": [
      "1551\n",
      "true\n"
     ]
    }
   ],
   "source": [
    "def checkPalindrome(n):\n",
    "    temp=n\n",
    "    rev=0\n",
    "    while(n>0):\n",
    "        \n",
    "        rem=n%10\n",
    "        n=n//10\n",
    "        rev=rev*10+rem\n",
    "    if rev==temp:\n",
    "        return True\n",
    "    else:\n",
    "        return False\n",
    "        \n",
    "\t\t\n",
    "num = int(input())\n",
    "isPalindrome = checkPalindrome(num)\n",
    "if(isPalindrome):\n",
    "\tprint('true')\n",
    "else:\n",
    "\tprint('false')\n"
   ]
  },
  {
   "cell_type": "markdown",
   "metadata": {},
   "source": [
    "## Check Armstrong"
   ]
  },
  {
   "cell_type": "code",
   "execution_count": 7,
   "metadata": {},
   "outputs": [
    {
     "name": "stdout",
     "output_type": "stream",
     "text": [
      "135\n",
      "false\n"
     ]
    }
   ],
   "source": [
    "#An Armstrong number is a number (with digits n) such that the sum of its digits raised \n",
    "#to nth power is equal to the number itself.\n",
    "#For example,\n",
    "#371, as 3^3 + 7^3 + 1^3 = 371\n",
    "#1634, as 1^4 + 6^4 + 3^4 + 4^4 = 1634\n",
    "\n",
    "n=int(input())\n",
    "temp=n\n",
    "k=0\n",
    "rev=0\n",
    "rem=0\n",
    "sum=0\n",
    "while temp>0:\n",
    "    temp=temp//10\n",
    "    k=k+1\n",
    "temp=n\n",
    "while temp>0:\n",
    "    \n",
    "    rem=temp%10\n",
    "    sum=rem**k+sum\n",
    "    temp=temp//10\n",
    "if sum==n:\n",
    "    print(\"true\")\n",
    "else:\n",
    "    print(\"false\")\n",
    "    \n"
   ]
  }
 ],
 "metadata": {
  "kernelspec": {
   "display_name": "Python 3",
   "language": "python",
   "name": "python3"
  },
  "language_info": {
   "codemirror_mode": {
    "name": "ipython",
    "version": 3
   },
   "file_extension": ".py",
   "mimetype": "text/x-python",
   "name": "python",
   "nbconvert_exporter": "python",
   "pygments_lexer": "ipython3",
   "version": "3.7.4"
  }
 },
 "nbformat": 4,
 "nbformat_minor": 2
}
