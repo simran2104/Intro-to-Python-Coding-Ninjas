{
 "cells": [
  {
   "cell_type": "markdown",
   "metadata": {},
   "source": [
    "## Binary Pattern"
   ]
  },
  {
   "cell_type": "code",
   "execution_count": 1,
   "metadata": {},
   "outputs": [
    {
     "name": "stdout",
     "output_type": "stream",
     "text": [
      "5\n",
      "11111\n",
      "0000\n",
      "111\n",
      "00\n",
      "1\n"
     ]
    }
   ],
   "source": [
    "n=int(input())\n",
    "for i in range(n):\n",
    "    for j in range(n-i):\n",
    "        if i%2!=0:\n",
    "            print(0,end=\"\")\n",
    "        else:\n",
    "            print(1,end=\"\")\n",
    "    print()\n",
    "            "
   ]
  },
  {
   "cell_type": "markdown",
   "metadata": {},
   "source": [
    "## Print Number Pyramid"
   ]
  },
  {
   "cell_type": "code",
   "execution_count": null,
   "metadata": {},
   "outputs": [],
   "source": [
    "n=int(input())\n",
    "for i in range(1,n*2):\n",
    "    if i<=n:\n",
    "        for j in range(1,i):\n",
    "            print(\" \",end=\"\")\n",
    "        for k in range(i,n+1):\n",
    "            print(k,end=\"\")\n",
    "            \n",
    "    if i>n:\n",
    "        l=i-n\n",
    "        for j in range(n-l-1):\n",
    "            print(\" \",end=\"\")\n",
    "        for k in range(n-l,n+1):\n",
    "            print(k,end=\"\")\n",
    "    print()"
   ]
  },
  {
   "cell_type": "markdown",
   "metadata": {},
   "source": [
    "## Diamond of Stars"
   ]
  },
  {
   "cell_type": "code",
   "execution_count": 2,
   "metadata": {},
   "outputs": [
    {
     "name": "stdout",
     "output_type": "stream",
     "text": [
      "5\n",
      "  *\n",
      " ***\n",
      "*****\n",
      " ***\n",
      "  *\n"
     ]
    }
   ],
   "source": [
    "rows=int(input())\n",
    "rows=rows//2+1\n",
    "n = 0\n",
    "for i in range(1, rows + 1): \n",
    "    # loop to print spaces \n",
    "    for j in range (1, (rows - i) + 1): \n",
    "        print(end = \" \") \n",
    "\n",
    "    # loop to print star \n",
    "    while n != (2 * i - 1): \n",
    "        print(\"*\", end = \"\") \n",
    "        n = n + 1\n",
    "    n = 0\n",
    "\n",
    "    # line break \n",
    "    print()  \n",
    "\n",
    "k = 1\n",
    "n = 1\n",
    "for i in range(1, rows): \n",
    "    # loop to print spaces \n",
    "    for j in range (1, k + 1): \n",
    "        print(end = \" \") \n",
    "    k = k + 1\n",
    "\n",
    "    # loop to print star \n",
    "    while n <= (2 * (rows - i) - 1): \n",
    "        print(\"*\", end = \"\") \n",
    "        n = n + 1\n",
    "    n = 1\n",
    "    print()\n"
   ]
  },
  {
   "cell_type": "markdown",
   "metadata": {},
   "source": [
    "## Rectangular numbers"
   ]
  },
  {
   "cell_type": "code",
   "execution_count": 3,
   "metadata": {},
   "outputs": [
    {
     "name": "stdout",
     "output_type": "stream",
     "text": [
      "5\n",
      "555555555\n",
      "544444445\n",
      "543333345\n",
      "543222345\n",
      "543212345\n",
      "543222345\n",
      "543333345\n",
      "544444445\n",
      "555555555\n"
     ]
    }
   ],
   "source": [
    "n = int(input())\n",
    "k = 2*n - 1\n",
    "\n",
    "for i in range(k):\n",
    "    for j in range(k):\n",
    "        a = i if i<j else j\n",
    "        a = a if a<k-i else k-i-1\n",
    "        a = a if a<k-j else k-j-1\n",
    "        print(n-a, end = '')\n",
    "    print()"
   ]
  },
  {
   "cell_type": "markdown",
   "metadata": {},
   "source": [
    "## Print the pattern"
   ]
  },
  {
   "cell_type": "code",
   "execution_count": 4,
   "metadata": {},
   "outputs": [
    {
     "name": "stdout",
     "output_type": "stream",
     "text": [
      "5\n",
      "1 2 3 4 5 \n",
      "11 12 13 14 15 \n",
      "21 22 23 24 25 \n",
      "16 17 18 19 20 \n",
      "6 7 8 9 10 \n"
     ]
    }
   ],
   "source": [
    "n = int(input())\n",
    "(i,j,k) = (0,0,0)\n",
    "l = []\n",
    "for v in range(0,n**2):\n",
    "    l.append(v)\n",
    "for w in range(0,n):\n",
    "    a = n*i\n",
    "    for x in range(0,n):\n",
    "        j+=1\n",
    "        l[a] = j\n",
    "        a+=1\n",
    "    if w%2 == 0:\n",
    "        i = (n-1)-i\n",
    "    else:\n",
    "        i = n-i\n",
    "\n",
    "for v in range(0,n):\n",
    "    for z in range(0,n):\n",
    "        print(l[k], end = ' ')\n",
    "        k+=1\n",
    "    print()"
   ]
  }
 ],
 "metadata": {
  "kernelspec": {
   "display_name": "Python 3",
   "language": "python",
   "name": "python3"
  },
  "language_info": {
   "codemirror_mode": {
    "name": "ipython",
    "version": 3
   },
   "file_extension": ".py",
   "mimetype": "text/x-python",
   "name": "python",
   "nbconvert_exporter": "python",
   "pygments_lexer": "ipython3",
   "version": "3.7.4"
  }
 },
 "nbformat": 4,
 "nbformat_minor": 2
}
